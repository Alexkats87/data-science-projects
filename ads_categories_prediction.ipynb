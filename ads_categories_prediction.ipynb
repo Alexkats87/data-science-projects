{
 "cells": [
  {
   "cell_type": "markdown",
   "metadata": {},
   "source": [
    "## Ads classification"
   ]
  },
  {
   "cell_type": "markdown",
   "metadata": {},
   "source": [
    "Given a data set with titles and ad texts from a large online aggregator. The data is marked up, i.e. for each ad affixing the category to which it belongs, for example, car repair services, computer sales, clothing purchases, etc. There are 50 categories in total. It is necessary to build a model that will automatically assign a category to an ad based on its content."
   ]
  },
  {
   "cell_type": "markdown",
   "metadata": {},
   "source": [
    "### Solution approach\n",
    "\n",
    "To obtain a baseline solution from the data, we will use only the title and text of ads, and as the main tool for classifying texts, we will take the **fastText** library, the main advantage of which is the high quality of classification and much less time (compared to other similar tools) work.\n",
    "Among the shortcomings, one can note the not very convenient interface of the library when working through the Python API - you need to create a special text file with a training sample.\n"
   ]
  },
  {
   "cell_type": "code",
   "execution_count": null,
   "metadata": {
    "collapsed": true
   },
   "outputs": [],
   "source": []
  },
  {
   "cell_type": "markdown",
   "metadata": {},
   "source": [
    "#### 1.Imports"
   ]
  },
  {
   "cell_type": "code",
   "execution_count": 1,
   "metadata": {
    "collapsed": true
   },
   "outputs": [],
   "source": [
    "import pandas as pd\n",
    "import numpy as np\n",
    "import csv\n",
    "import re\n",
    "import pickle\n",
    "import nltk\n",
    "\n",
    "import fastText as ft\n",
    "from string import punctuation as PUNCTUATION\n",
    "from nltk.corpus import stopwords\n",
    "from nltk.stem.snowball import SnowballStemmer\n",
    "from pymystem3 import Mystem"
   ]
  },
  {
   "cell_type": "code",
   "execution_count": 99,
   "metadata": {
    "collapsed": true
   },
   "outputs": [],
   "source": [
    "from sklearn.model_selection import StratifiedKFold\n",
    "from sklearn.metrics import accuracy_score"
   ]
  },
  {
   "cell_type": "code",
   "execution_count": 180,
   "metadata": {
    "collapsed": true
   },
   "outputs": [],
   "source": [
    "np.random.seed(42)"
   ]
  },
  {
   "cell_type": "markdown",
   "metadata": {},
   "source": [
    "Let's perform text preprocessing using lemmatization (reducing all words to the initial form), and then removing stop words."
   ]
  },
  {
   "cell_type": "code",
   "execution_count": 2,
   "metadata": {
    "collapsed": true
   },
   "outputs": [],
   "source": [
    "STOPWORDS = stopwords.words(\"russian\")"
   ]
  },
  {
   "cell_type": "code",
   "execution_count": 3,
   "metadata": {
    "collapsed": true
   },
   "outputs": [],
   "source": [
    "lemmatizer = Mystem()"
   ]
  },
  {
   "cell_type": "code",
   "execution_count": null,
   "metadata": {
    "collapsed": true
   },
   "outputs": [],
   "source": []
  },
  {
   "cell_type": "markdown",
   "metadata": {},
   "source": [
    "Let's describe the **normalize** function, which takes a text string as input, tokenizes it (breaks it into lexemes - words, spaces and punctuation marks), lemmatizes and removes stop words, then collects the lexemes back into a string"
   ]
  },
  {
   "cell_type": "code",
   "execution_count": 4,
   "metadata": {
    "collapsed": true
   },
   "outputs": [],
   "source": [
    "def normalize(text):\n",
    "    \"\"\"\n",
    "    Params: text\n",
    "    Returns: Normalized text (after lemmatization, removing punctuation and stop-words)\n",
    "    \"\"\"\n",
    "  \n",
    "    tokens = lemmatizer.lemmatize(text.lower())\n",
    "    tokens = [token for token in tokens if \n",
    "              len(token.strip()) > 1\n",
    "              and token not in STOPWORDS\n",
    "              and token.strip()[0] not in PUNCTUATION\n",
    "              and not token.strip()[0].isdigit()\n",
    "              ]\n",
    "    \n",
    "    text = \" \".join(tokens)\n",
    "    return text"
   ]
  },
  {
   "cell_type": "code",
   "execution_count": null,
   "metadata": {
    "collapsed": true
   },
   "outputs": [],
   "source": []
  },
  {
   "cell_type": "markdown",
   "metadata": {},
   "source": [
    "#### 2. Working with category hierarchies"
   ]
  },
  {
   "cell_type": "markdown",
   "metadata": {},
   "source": [
    "Since it is necessary to calculate the quality of the model for each of the levels of the declaration class hierarchy, we first look at the structure of this hierarchy"
   ]
  },
  {
   "cell_type": "code",
   "execution_count": 47,
   "metadata": {
    "collapsed": true
   },
   "outputs": [],
   "source": [
    "categories_data = pd.read_csv('data/category.csv')"
   ]
  },
  {
   "cell_type": "code",
   "execution_count": 48,
   "metadata": {
    "scrolled": false
   },
   "outputs": [
    {
     "data": {
      "text/html": [
       "<div>\n",
       "<style scoped>\n",
       "    .dataframe tbody tr th:only-of-type {\n",
       "        vertical-align: middle;\n",
       "    }\n",
       "\n",
       "    .dataframe tbody tr th {\n",
       "        vertical-align: top;\n",
       "    }\n",
       "\n",
       "    .dataframe thead th {\n",
       "        text-align: right;\n",
       "    }\n",
       "</style>\n",
       "<table border=\"1\" class=\"dataframe\">\n",
       "  <thead>\n",
       "    <tr style=\"text-align: right;\">\n",
       "      <th></th>\n",
       "      <th>category_id</th>\n",
       "      <th>name</th>\n",
       "    </tr>\n",
       "  </thead>\n",
       "  <tbody>\n",
       "    <tr>\n",
       "      <th>0</th>\n",
       "      <td>0</td>\n",
       "      <td>Бытовая электроника|Телефоны|iPhone</td>\n",
       "    </tr>\n",
       "    <tr>\n",
       "      <th>1</th>\n",
       "      <td>1</td>\n",
       "      <td>Бытовая электроника|Ноутбуки</td>\n",
       "    </tr>\n",
       "    <tr>\n",
       "      <th>2</th>\n",
       "      <td>2</td>\n",
       "      <td>Бытовая электроника|Телефоны|Samsung</td>\n",
       "    </tr>\n",
       "    <tr>\n",
       "      <th>3</th>\n",
       "      <td>3</td>\n",
       "      <td>Бытовая электроника|Планшеты и электронные кни...</td>\n",
       "    </tr>\n",
       "    <tr>\n",
       "      <th>4</th>\n",
       "      <td>4</td>\n",
       "      <td>Бытовая электроника|Игры, приставки и программ...</td>\n",
       "    </tr>\n",
       "    <tr>\n",
       "      <th>5</th>\n",
       "      <td>5</td>\n",
       "      <td>Бытовая электроника|Аудио и видео|Телевизоры и...</td>\n",
       "    </tr>\n",
       "    <tr>\n",
       "      <th>6</th>\n",
       "      <td>6</td>\n",
       "      <td>Бытовая электроника|Телефоны|Другие марки</td>\n",
       "    </tr>\n",
       "    <tr>\n",
       "      <th>7</th>\n",
       "      <td>7</td>\n",
       "      <td>Бытовая электроника|Настольные компьютеры</td>\n",
       "    </tr>\n",
       "    <tr>\n",
       "      <th>8</th>\n",
       "      <td>8</td>\n",
       "      <td>Бытовая электроника|Игры, приставки и программ...</td>\n",
       "    </tr>\n",
       "    <tr>\n",
       "      <th>9</th>\n",
       "      <td>9</td>\n",
       "      <td>Бытовая электроника|Телефоны|Аксессуары|Чехлы ...</td>\n",
       "    </tr>\n",
       "    <tr>\n",
       "      <th>10</th>\n",
       "      <td>10</td>\n",
       "      <td>Бытовая электроника|Телефоны|Nokia</td>\n",
       "    </tr>\n",
       "    <tr>\n",
       "      <th>11</th>\n",
       "      <td>11</td>\n",
       "      <td>Бытовая электроника|Телефоны|Sony</td>\n",
       "    </tr>\n",
       "    <tr>\n",
       "      <th>12</th>\n",
       "      <td>12</td>\n",
       "      <td>Бытовая электроника|Аудио и видео|Акустика, ко...</td>\n",
       "    </tr>\n",
       "    <tr>\n",
       "      <th>13</th>\n",
       "      <td>13</td>\n",
       "      <td>Бытовая электроника|Товары для компьютера|Мони...</td>\n",
       "    </tr>\n",
       "    <tr>\n",
       "      <th>14</th>\n",
       "      <td>14</td>\n",
       "      <td>Бытовая электроника|Товары для компьютера|Сете...</td>\n",
       "    </tr>\n",
       "  </tbody>\n",
       "</table>\n",
       "</div>"
      ],
      "text/plain": [
       "    category_id                                               name\n",
       "0             0                Бытовая электроника|Телефоны|iPhone\n",
       "1             1                       Бытовая электроника|Ноутбуки\n",
       "2             2               Бытовая электроника|Телефоны|Samsung\n",
       "3             3  Бытовая электроника|Планшеты и электронные кни...\n",
       "4             4  Бытовая электроника|Игры, приставки и программ...\n",
       "5             5  Бытовая электроника|Аудио и видео|Телевизоры и...\n",
       "6             6          Бытовая электроника|Телефоны|Другие марки\n",
       "7             7          Бытовая электроника|Настольные компьютеры\n",
       "8             8  Бытовая электроника|Игры, приставки и программ...\n",
       "9             9  Бытовая электроника|Телефоны|Аксессуары|Чехлы ...\n",
       "10           10                 Бытовая электроника|Телефоны|Nokia\n",
       "11           11                  Бытовая электроника|Телефоны|Sony\n",
       "12           12  Бытовая электроника|Аудио и видео|Акустика, ко...\n",
       "13           13  Бытовая электроника|Товары для компьютера|Мони...\n",
       "14           14  Бытовая электроника|Товары для компьютера|Сете..."
      ]
     },
     "execution_count": 48,
     "metadata": {},
     "output_type": "execute_result"
    }
   ],
   "source": [
    "categories_data.head(15)"
   ]
  },
  {
   "cell_type": "markdown",
   "metadata": {},
   "source": [
    "Easy to see that the nesting depth of categories is different and ranges from 2 to 4. For convenience, we will make it the same for all classes and equal to 4"
   ]
  },
  {
   "cell_type": "code",
   "execution_count": 49,
   "metadata": {
    "collapsed": true
   },
   "outputs": [],
   "source": [
    "cat_hierarchy = []"
   ]
  },
  {
   "cell_type": "code",
   "execution_count": 50,
   "metadata": {},
   "outputs": [],
   "source": [
    "for i in categories_data.index:\n",
    "    curr_cat_hierarchy = categories_data['name'][i].split(\"|\")\n",
    "    for j in range(0, 4 - len(curr_cat_hierarchy)):\n",
    "        curr_cat_hierarchy.append(curr_cat_hierarchy[-1])\n",
    "    cat_hierarchy.append(curr_cat_hierarchy)"
   ]
  },
  {
   "cell_type": "code",
   "execution_count": 51,
   "metadata": {
    "collapsed": true
   },
   "outputs": [],
   "source": [
    "hierarchy_data = pd.DataFrame(np.array(cat_hierarchy), \n",
    "                              columns=['Level_' + str(i) for i in range(0,4)])"
   ]
  },
  {
   "cell_type": "markdown",
   "metadata": {},
   "source": [
    "You can understand the idea better by looking at the resulting class table: here each column is a level of detail, from the least detailed **Level_0** (contains only 4 large classes) to the most detailed **Level_3** (contains 54 classes, which are required to be predicted for the test data set)."
   ]
  },
  {
   "cell_type": "code",
   "execution_count": 52,
   "metadata": {
    "scrolled": true
   },
   "outputs": [
    {
     "data": {
      "text/html": [
       "<div>\n",
       "<style scoped>\n",
       "    .dataframe tbody tr th:only-of-type {\n",
       "        vertical-align: middle;\n",
       "    }\n",
       "\n",
       "    .dataframe tbody tr th {\n",
       "        vertical-align: top;\n",
       "    }\n",
       "\n",
       "    .dataframe thead th {\n",
       "        text-align: right;\n",
       "    }\n",
       "</style>\n",
       "<table border=\"1\" class=\"dataframe\">\n",
       "  <thead>\n",
       "    <tr style=\"text-align: right;\">\n",
       "      <th></th>\n",
       "      <th>Level_0</th>\n",
       "      <th>Level_1</th>\n",
       "      <th>Level_2</th>\n",
       "      <th>Level_3</th>\n",
       "    </tr>\n",
       "  </thead>\n",
       "  <tbody>\n",
       "    <tr>\n",
       "      <th>0</th>\n",
       "      <td>Бытовая электроника</td>\n",
       "      <td>Телефоны</td>\n",
       "      <td>iPhone</td>\n",
       "      <td>iPhone</td>\n",
       "    </tr>\n",
       "    <tr>\n",
       "      <th>1</th>\n",
       "      <td>Бытовая электроника</td>\n",
       "      <td>Ноутбуки</td>\n",
       "      <td>Ноутбуки</td>\n",
       "      <td>Ноутбуки</td>\n",
       "    </tr>\n",
       "    <tr>\n",
       "      <th>2</th>\n",
       "      <td>Бытовая электроника</td>\n",
       "      <td>Телефоны</td>\n",
       "      <td>Samsung</td>\n",
       "      <td>Samsung</td>\n",
       "    </tr>\n",
       "    <tr>\n",
       "      <th>3</th>\n",
       "      <td>Бытовая электроника</td>\n",
       "      <td>Планшеты и электронные книги</td>\n",
       "      <td>Планшеты</td>\n",
       "      <td>Планшеты</td>\n",
       "    </tr>\n",
       "    <tr>\n",
       "      <th>4</th>\n",
       "      <td>Бытовая электроника</td>\n",
       "      <td>Игры, приставки и программы</td>\n",
       "      <td>Игровые приставки</td>\n",
       "      <td>Игровые приставки</td>\n",
       "    </tr>\n",
       "    <tr>\n",
       "      <th>5</th>\n",
       "      <td>Бытовая электроника</td>\n",
       "      <td>Аудио и видео</td>\n",
       "      <td>Телевизоры и проекторы</td>\n",
       "      <td>Телевизоры и проекторы</td>\n",
       "    </tr>\n",
       "    <tr>\n",
       "      <th>6</th>\n",
       "      <td>Бытовая электроника</td>\n",
       "      <td>Телефоны</td>\n",
       "      <td>Другие марки</td>\n",
       "      <td>Другие марки</td>\n",
       "    </tr>\n",
       "    <tr>\n",
       "      <th>7</th>\n",
       "      <td>Бытовая электроника</td>\n",
       "      <td>Настольные компьютеры</td>\n",
       "      <td>Настольные компьютеры</td>\n",
       "      <td>Настольные компьютеры</td>\n",
       "    </tr>\n",
       "    <tr>\n",
       "      <th>8</th>\n",
       "      <td>Бытовая электроника</td>\n",
       "      <td>Игры, приставки и программы</td>\n",
       "      <td>Игры для приставок</td>\n",
       "      <td>Игры для приставок</td>\n",
       "    </tr>\n",
       "    <tr>\n",
       "      <th>9</th>\n",
       "      <td>Бытовая электроника</td>\n",
       "      <td>Телефоны</td>\n",
       "      <td>Аксессуары</td>\n",
       "      <td>Чехлы и плёнки</td>\n",
       "    </tr>\n",
       "    <tr>\n",
       "      <th>10</th>\n",
       "      <td>Бытовая электроника</td>\n",
       "      <td>Телефоны</td>\n",
       "      <td>Nokia</td>\n",
       "      <td>Nokia</td>\n",
       "    </tr>\n",
       "    <tr>\n",
       "      <th>11</th>\n",
       "      <td>Бытовая электроника</td>\n",
       "      <td>Телефоны</td>\n",
       "      <td>Sony</td>\n",
       "      <td>Sony</td>\n",
       "    </tr>\n",
       "    <tr>\n",
       "      <th>12</th>\n",
       "      <td>Бытовая электроника</td>\n",
       "      <td>Аудио и видео</td>\n",
       "      <td>Акустика, колонки, сабвуферы</td>\n",
       "      <td>Акустика, колонки, сабвуферы</td>\n",
       "    </tr>\n",
       "    <tr>\n",
       "      <th>13</th>\n",
       "      <td>Бытовая электроника</td>\n",
       "      <td>Товары для компьютера</td>\n",
       "      <td>Мониторы</td>\n",
       "      <td>Мониторы</td>\n",
       "    </tr>\n",
       "    <tr>\n",
       "      <th>14</th>\n",
       "      <td>Бытовая электроника</td>\n",
       "      <td>Товары для компьютера</td>\n",
       "      <td>Сетевое оборудование</td>\n",
       "      <td>Сетевое оборудование</td>\n",
       "    </tr>\n",
       "    <tr>\n",
       "      <th>15</th>\n",
       "      <td>Для дома и дачи</td>\n",
       "      <td>Ремонт и строительство</td>\n",
       "      <td>Стройматериалы</td>\n",
       "      <td>Стройматериалы</td>\n",
       "    </tr>\n",
       "    <tr>\n",
       "      <th>16</th>\n",
       "      <td>Для дома и дачи</td>\n",
       "      <td>Мебель и интерьер</td>\n",
       "      <td>Кровати, диваны и кресла</td>\n",
       "      <td>Кровати, диваны и кресла</td>\n",
       "    </tr>\n",
       "    <tr>\n",
       "      <th>17</th>\n",
       "      <td>Для дома и дачи</td>\n",
       "      <td>Ремонт и строительство</td>\n",
       "      <td>Инструменты</td>\n",
       "      <td>Инструменты</td>\n",
       "    </tr>\n",
       "    <tr>\n",
       "      <th>18</th>\n",
       "      <td>Для дома и дачи</td>\n",
       "      <td>Мебель и интерьер</td>\n",
       "      <td>Шкафы и комоды</td>\n",
       "      <td>Шкафы и комоды</td>\n",
       "    </tr>\n",
       "    <tr>\n",
       "      <th>19</th>\n",
       "      <td>Для дома и дачи</td>\n",
       "      <td>Мебель и интерьер</td>\n",
       "      <td>Предметы интерьера, искусство</td>\n",
       "      <td>Предметы интерьера, искусство</td>\n",
       "    </tr>\n",
       "    <tr>\n",
       "      <th>20</th>\n",
       "      <td>Для дома и дачи</td>\n",
       "      <td>Посуда и товары для кухни</td>\n",
       "      <td>Посуда</td>\n",
       "      <td>Посуда</td>\n",
       "    </tr>\n",
       "    <tr>\n",
       "      <th>21</th>\n",
       "      <td>Для дома и дачи</td>\n",
       "      <td>Ремонт и строительство</td>\n",
       "      <td>Сантехника и сауна</td>\n",
       "      <td>Сантехника и сауна</td>\n",
       "    </tr>\n",
       "    <tr>\n",
       "      <th>22</th>\n",
       "      <td>Для дома и дачи</td>\n",
       "      <td>Мебель и интерьер</td>\n",
       "      <td>Столы и стулья</td>\n",
       "      <td>Столы и стулья</td>\n",
       "    </tr>\n",
       "    <tr>\n",
       "      <th>23</th>\n",
       "      <td>Для дома и дачи</td>\n",
       "      <td>Мебель и интерьер</td>\n",
       "      <td>Другое</td>\n",
       "      <td>Другое</td>\n",
       "    </tr>\n",
       "    <tr>\n",
       "      <th>24</th>\n",
       "      <td>Для дома и дачи</td>\n",
       "      <td>Растения</td>\n",
       "      <td>Растения</td>\n",
       "      <td>Растения</td>\n",
       "    </tr>\n",
       "    <tr>\n",
       "      <th>25</th>\n",
       "      <td>Для дома и дачи</td>\n",
       "      <td>Ремонт и строительство</td>\n",
       "      <td>Двери</td>\n",
       "      <td>Двери</td>\n",
       "    </tr>\n",
       "    <tr>\n",
       "      <th>26</th>\n",
       "      <td>Для дома и дачи</td>\n",
       "      <td>Бытовая техника</td>\n",
       "      <td>Для дома</td>\n",
       "      <td>Стиральные машины</td>\n",
       "    </tr>\n",
       "    <tr>\n",
       "      <th>27</th>\n",
       "      <td>Для дома и дачи</td>\n",
       "      <td>Мебель и интерьер</td>\n",
       "      <td>Текстиль и ковры</td>\n",
       "      <td>Текстиль и ковры</td>\n",
       "    </tr>\n",
       "    <tr>\n",
       "      <th>28</th>\n",
       "      <td>Для дома и дачи</td>\n",
       "      <td>Мебель и интерьер</td>\n",
       "      <td>Освещение</td>\n",
       "      <td>Освещение</td>\n",
       "    </tr>\n",
       "    <tr>\n",
       "      <th>29</th>\n",
       "      <td>Для дома и дачи</td>\n",
       "      <td>Бытовая техника</td>\n",
       "      <td>Для кухни</td>\n",
       "      <td>Мелкая кухонная техника</td>\n",
       "    </tr>\n",
       "    <tr>\n",
       "      <th>30</th>\n",
       "      <td>Личные вещи</td>\n",
       "      <td>Товары для детей и игрушки</td>\n",
       "      <td>Игрушки</td>\n",
       "      <td>Игрушки</td>\n",
       "    </tr>\n",
       "    <tr>\n",
       "      <th>31</th>\n",
       "      <td>Личные вещи</td>\n",
       "      <td>Одежда, обувь, аксессуары</td>\n",
       "      <td>Аксессуары</td>\n",
       "      <td>Аксессуары</td>\n",
       "    </tr>\n",
       "    <tr>\n",
       "      <th>32</th>\n",
       "      <td>Личные вещи</td>\n",
       "      <td>Товары для детей и игрушки</td>\n",
       "      <td>Детские коляски</td>\n",
       "      <td>Детские коляски</td>\n",
       "    </tr>\n",
       "    <tr>\n",
       "      <th>33</th>\n",
       "      <td>Личные вещи</td>\n",
       "      <td>Одежда, обувь, аксессуары</td>\n",
       "      <td>Женская одежда</td>\n",
       "      <td>Верхняя одежда</td>\n",
       "    </tr>\n",
       "    <tr>\n",
       "      <th>34</th>\n",
       "      <td>Личные вещи</td>\n",
       "      <td>Товары для детей и игрушки</td>\n",
       "      <td>Детская мебель</td>\n",
       "      <td>Детская мебель</td>\n",
       "    </tr>\n",
       "    <tr>\n",
       "      <th>35</th>\n",
       "      <td>Личные вещи</td>\n",
       "      <td>Одежда, обувь, аксессуары</td>\n",
       "      <td>Женская одежда</td>\n",
       "      <td>Платья и юбки</td>\n",
       "    </tr>\n",
       "    <tr>\n",
       "      <th>36</th>\n",
       "      <td>Личные вещи</td>\n",
       "      <td>Часы и украшения</td>\n",
       "      <td>Часы</td>\n",
       "      <td>Часы</td>\n",
       "    </tr>\n",
       "    <tr>\n",
       "      <th>37</th>\n",
       "      <td>Личные вещи</td>\n",
       "      <td>Красота и здоровье</td>\n",
       "      <td>Приборы и аксессуары</td>\n",
       "      <td>Приборы и аксессуары</td>\n",
       "    </tr>\n",
       "    <tr>\n",
       "      <th>38</th>\n",
       "      <td>Личные вещи</td>\n",
       "      <td>Одежда, обувь, аксессуары</td>\n",
       "      <td>Женская одежда</td>\n",
       "      <td>Другое</td>\n",
       "    </tr>\n",
       "    <tr>\n",
       "      <th>39</th>\n",
       "      <td>Личные вещи</td>\n",
       "      <td>Одежда, обувь, аксессуары</td>\n",
       "      <td>Женская одежда</td>\n",
       "      <td>Обувь</td>\n",
       "    </tr>\n",
       "    <tr>\n",
       "      <th>40</th>\n",
       "      <td>Личные вещи</td>\n",
       "      <td>Часы и украшения</td>\n",
       "      <td>Ювелирные изделия</td>\n",
       "      <td>Ювелирные изделия</td>\n",
       "    </tr>\n",
       "    <tr>\n",
       "      <th>41</th>\n",
       "      <td>Личные вещи</td>\n",
       "      <td>Товары для детей и игрушки</td>\n",
       "      <td>Товары для кормления</td>\n",
       "      <td>Товары для кормления</td>\n",
       "    </tr>\n",
       "    <tr>\n",
       "      <th>42</th>\n",
       "      <td>Хобби и отдых</td>\n",
       "      <td>Спорт и отдых</td>\n",
       "      <td>Зимние виды спорта</td>\n",
       "      <td>Зимние виды спорта</td>\n",
       "    </tr>\n",
       "    <tr>\n",
       "      <th>43</th>\n",
       "      <td>Хобби и отдых</td>\n",
       "      <td>Книги и журналы</td>\n",
       "      <td>Книги</td>\n",
       "      <td>Книги</td>\n",
       "    </tr>\n",
       "    <tr>\n",
       "      <th>44</th>\n",
       "      <td>Хобби и отдых</td>\n",
       "      <td>Коллекционирование</td>\n",
       "      <td>Другое</td>\n",
       "      <td>Другое</td>\n",
       "    </tr>\n",
       "    <tr>\n",
       "      <th>45</th>\n",
       "      <td>Хобби и отдых</td>\n",
       "      <td>Коллекционирование</td>\n",
       "      <td>Монеты</td>\n",
       "      <td>Монеты</td>\n",
       "    </tr>\n",
       "    <tr>\n",
       "      <th>46</th>\n",
       "      <td>Хобби и отдых</td>\n",
       "      <td>Спорт и отдых</td>\n",
       "      <td>Фитнес и тренажёры</td>\n",
       "      <td>Фитнес и тренажёры</td>\n",
       "    </tr>\n",
       "    <tr>\n",
       "      <th>47</th>\n",
       "      <td>Хобби и отдых</td>\n",
       "      <td>Спорт и отдых</td>\n",
       "      <td>Другое</td>\n",
       "      <td>Другое</td>\n",
       "    </tr>\n",
       "    <tr>\n",
       "      <th>48</th>\n",
       "      <td>Хобби и отдых</td>\n",
       "      <td>Билеты и путешествия</td>\n",
       "      <td>Путешествия</td>\n",
       "      <td>Путешествия</td>\n",
       "    </tr>\n",
       "    <tr>\n",
       "      <th>49</th>\n",
       "      <td>Хобби и отдых</td>\n",
       "      <td>Охота и рыбалка</td>\n",
       "      <td>Охота и рыбалка</td>\n",
       "      <td>Охота и рыбалка</td>\n",
       "    </tr>\n",
       "    <tr>\n",
       "      <th>50</th>\n",
       "      <td>Хобби и отдых</td>\n",
       "      <td>Музыкальные инструменты</td>\n",
       "      <td>Гитары и другие струнные</td>\n",
       "      <td>Гитары и другие струнные</td>\n",
       "    </tr>\n",
       "    <tr>\n",
       "      <th>51</th>\n",
       "      <td>Хобби и отдых</td>\n",
       "      <td>Книги и журналы</td>\n",
       "      <td>Учебная литература</td>\n",
       "      <td>Учебная литература</td>\n",
       "    </tr>\n",
       "    <tr>\n",
       "      <th>52</th>\n",
       "      <td>Хобби и отдых</td>\n",
       "      <td>Музыкальные инструменты</td>\n",
       "      <td>Для студии и концертов</td>\n",
       "      <td>Для студии и концертов</td>\n",
       "    </tr>\n",
       "    <tr>\n",
       "      <th>53</th>\n",
       "      <td>Хобби и отдых</td>\n",
       "      <td>Велосипеды</td>\n",
       "      <td>Запчасти и аксессуары</td>\n",
       "      <td>Запчасти и аксессуары</td>\n",
       "    </tr>\n",
       "  </tbody>\n",
       "</table>\n",
       "</div>"
      ],
      "text/plain": [
       "                Level_0                       Level_1  \\\n",
       "0   Бытовая электроника                      Телефоны   \n",
       "1   Бытовая электроника                      Ноутбуки   \n",
       "2   Бытовая электроника                      Телефоны   \n",
       "3   Бытовая электроника  Планшеты и электронные книги   \n",
       "4   Бытовая электроника   Игры, приставки и программы   \n",
       "5   Бытовая электроника                 Аудио и видео   \n",
       "6   Бытовая электроника                      Телефоны   \n",
       "7   Бытовая электроника         Настольные компьютеры   \n",
       "8   Бытовая электроника   Игры, приставки и программы   \n",
       "9   Бытовая электроника                      Телефоны   \n",
       "10  Бытовая электроника                      Телефоны   \n",
       "11  Бытовая электроника                      Телефоны   \n",
       "12  Бытовая электроника                 Аудио и видео   \n",
       "13  Бытовая электроника         Товары для компьютера   \n",
       "14  Бытовая электроника         Товары для компьютера   \n",
       "15      Для дома и дачи        Ремонт и строительство   \n",
       "16      Для дома и дачи             Мебель и интерьер   \n",
       "17      Для дома и дачи        Ремонт и строительство   \n",
       "18      Для дома и дачи             Мебель и интерьер   \n",
       "19      Для дома и дачи             Мебель и интерьер   \n",
       "20      Для дома и дачи     Посуда и товары для кухни   \n",
       "21      Для дома и дачи        Ремонт и строительство   \n",
       "22      Для дома и дачи             Мебель и интерьер   \n",
       "23      Для дома и дачи             Мебель и интерьер   \n",
       "24      Для дома и дачи                      Растения   \n",
       "25      Для дома и дачи        Ремонт и строительство   \n",
       "26      Для дома и дачи               Бытовая техника   \n",
       "27      Для дома и дачи             Мебель и интерьер   \n",
       "28      Для дома и дачи             Мебель и интерьер   \n",
       "29      Для дома и дачи               Бытовая техника   \n",
       "30          Личные вещи    Товары для детей и игрушки   \n",
       "31          Личные вещи     Одежда, обувь, аксессуары   \n",
       "32          Личные вещи    Товары для детей и игрушки   \n",
       "33          Личные вещи     Одежда, обувь, аксессуары   \n",
       "34          Личные вещи    Товары для детей и игрушки   \n",
       "35          Личные вещи     Одежда, обувь, аксессуары   \n",
       "36          Личные вещи              Часы и украшения   \n",
       "37          Личные вещи            Красота и здоровье   \n",
       "38          Личные вещи     Одежда, обувь, аксессуары   \n",
       "39          Личные вещи     Одежда, обувь, аксессуары   \n",
       "40          Личные вещи              Часы и украшения   \n",
       "41          Личные вещи    Товары для детей и игрушки   \n",
       "42        Хобби и отдых                 Спорт и отдых   \n",
       "43        Хобби и отдых               Книги и журналы   \n",
       "44        Хобби и отдых            Коллекционирование   \n",
       "45        Хобби и отдых            Коллекционирование   \n",
       "46        Хобби и отдых                 Спорт и отдых   \n",
       "47        Хобби и отдых                 Спорт и отдых   \n",
       "48        Хобби и отдых          Билеты и путешествия   \n",
       "49        Хобби и отдых               Охота и рыбалка   \n",
       "50        Хобби и отдых       Музыкальные инструменты   \n",
       "51        Хобби и отдых               Книги и журналы   \n",
       "52        Хобби и отдых       Музыкальные инструменты   \n",
       "53        Хобби и отдых                    Велосипеды   \n",
       "\n",
       "                          Level_2                        Level_3  \n",
       "0                          iPhone                         iPhone  \n",
       "1                        Ноутбуки                       Ноутбуки  \n",
       "2                         Samsung                        Samsung  \n",
       "3                        Планшеты                       Планшеты  \n",
       "4               Игровые приставки              Игровые приставки  \n",
       "5          Телевизоры и проекторы         Телевизоры и проекторы  \n",
       "6                    Другие марки                   Другие марки  \n",
       "7           Настольные компьютеры          Настольные компьютеры  \n",
       "8              Игры для приставок             Игры для приставок  \n",
       "9                      Аксессуары                 Чехлы и плёнки  \n",
       "10                          Nokia                          Nokia  \n",
       "11                           Sony                           Sony  \n",
       "12   Акустика, колонки, сабвуферы   Акустика, колонки, сабвуферы  \n",
       "13                       Мониторы                       Мониторы  \n",
       "14           Сетевое оборудование           Сетевое оборудование  \n",
       "15                 Стройматериалы                 Стройматериалы  \n",
       "16       Кровати, диваны и кресла       Кровати, диваны и кресла  \n",
       "17                    Инструменты                    Инструменты  \n",
       "18                 Шкафы и комоды                 Шкафы и комоды  \n",
       "19  Предметы интерьера, искусство  Предметы интерьера, искусство  \n",
       "20                         Посуда                         Посуда  \n",
       "21             Сантехника и сауна             Сантехника и сауна  \n",
       "22                 Столы и стулья                 Столы и стулья  \n",
       "23                         Другое                         Другое  \n",
       "24                       Растения                       Растения  \n",
       "25                          Двери                          Двери  \n",
       "26                       Для дома              Стиральные машины  \n",
       "27               Текстиль и ковры               Текстиль и ковры  \n",
       "28                      Освещение                      Освещение  \n",
       "29                      Для кухни        Мелкая кухонная техника  \n",
       "30                        Игрушки                        Игрушки  \n",
       "31                     Аксессуары                     Аксессуары  \n",
       "32                Детские коляски                Детские коляски  \n",
       "33                 Женская одежда                 Верхняя одежда  \n",
       "34                 Детская мебель                 Детская мебель  \n",
       "35                 Женская одежда                  Платья и юбки  \n",
       "36                           Часы                           Часы  \n",
       "37           Приборы и аксессуары           Приборы и аксессуары  \n",
       "38                 Женская одежда                         Другое  \n",
       "39                 Женская одежда                          Обувь  \n",
       "40              Ювелирные изделия              Ювелирные изделия  \n",
       "41           Товары для кормления           Товары для кормления  \n",
       "42             Зимние виды спорта             Зимние виды спорта  \n",
       "43                          Книги                          Книги  \n",
       "44                         Другое                         Другое  \n",
       "45                         Монеты                         Монеты  \n",
       "46             Фитнес и тренажёры             Фитнес и тренажёры  \n",
       "47                         Другое                         Другое  \n",
       "48                    Путешествия                    Путешествия  \n",
       "49                Охота и рыбалка                Охота и рыбалка  \n",
       "50       Гитары и другие струнные       Гитары и другие струнные  \n",
       "51             Учебная литература             Учебная литература  \n",
       "52         Для студии и концертов         Для студии и концертов  \n",
       "53          Запчасти и аксессуары          Запчасти и аксессуары  "
      ]
     },
     "execution_count": 52,
     "metadata": {},
     "output_type": "execute_result"
    }
   ],
   "source": [
    "hierarchy_data"
   ]
  },
  {
   "cell_type": "markdown",
   "metadata": {},
   "source": [
    "When building forecasts for each level, the easiest way to do this is to build a forecast for the most detailed class, and get forecasts for upper-level classes simply by determining which of the higher classes the predicted class is located in.\n",
    "\n",
    "For the convenience of obtaining a quality metric, let's create a dictionary that will help you quickly get the class number of each level by the class number of the lowest level:"
   ]
  },
  {
   "cell_type": "code",
   "execution_count": 53,
   "metadata": {
    "collapsed": true
   },
   "outputs": [],
   "source": [
    "hierarchy_data['Level_4'] = hierarchy_data.index\n",
    "hierarchy_data.sort_values(by=['Level_0', 'Level_1', 'Level_2'], inplace=True)"
   ]
  },
  {
   "cell_type": "code",
   "execution_count": 54,
   "metadata": {
    "collapsed": true
   },
   "outputs": [],
   "source": [
    "hierarchy_data.loc[hierarchy_data['Level_2'] == 'Другое', 'Level_2'] = \\\n",
    "hierarchy_data['Level_1'] + str('_') + hierarchy_data['Level_2']\n",
    "\n",
    "hierarchy_data.loc[hierarchy_data['Level_3'] == 'Другое', 'Level_3'] = \\\n",
    "hierarchy_data['Level_2'] + str('_') + hierarchy_data['Level_3']"
   ]
  },
  {
   "cell_type": "code",
   "execution_count": 55,
   "metadata": {
    "collapsed": true
   },
   "outputs": [],
   "source": [
    "hierarchy_data['Level_3'] = hierarchy_data['Level_4']\n",
    "hierarchy_data.drop('Level_4', axis=1, inplace=True)"
   ]
  },
  {
   "cell_type": "code",
   "execution_count": 56,
   "metadata": {
    "collapsed": true
   },
   "outputs": [],
   "source": [
    "for cat_level in [0 ,1, 2]:\n",
    "    cat_level_name = 'Level_' + str(cat_level)\n",
    "    for cat_id, cat_name in enumerate(hierarchy_data[cat_level_name].unique()):\n",
    "        hierarchy_data.loc[hierarchy_data[cat_level_name] == cat_name, \n",
    "                           cat_level_name] = cat_id + 1"
   ]
  },
  {
   "cell_type": "markdown",
   "metadata": {},
   "source": [
    "This dataframe will be used to get this dictionary later:"
   ]
  },
  {
   "cell_type": "code",
   "execution_count": 68,
   "metadata": {
    "scrolled": true
   },
   "outputs": [
    {
     "data": {
      "text/html": [
       "<div>\n",
       "<style scoped>\n",
       "    .dataframe tbody tr th:only-of-type {\n",
       "        vertical-align: middle;\n",
       "    }\n",
       "\n",
       "    .dataframe tbody tr th {\n",
       "        vertical-align: top;\n",
       "    }\n",
       "\n",
       "    .dataframe thead th {\n",
       "        text-align: right;\n",
       "    }\n",
       "</style>\n",
       "<table border=\"1\" class=\"dataframe\">\n",
       "  <thead>\n",
       "    <tr style=\"text-align: right;\">\n",
       "      <th></th>\n",
       "      <th>Level_0</th>\n",
       "      <th>Level_1</th>\n",
       "      <th>Level_2</th>\n",
       "      <th>Level_3</th>\n",
       "    </tr>\n",
       "  </thead>\n",
       "  <tbody>\n",
       "    <tr>\n",
       "      <th>12</th>\n",
       "      <td>1</td>\n",
       "      <td>1</td>\n",
       "      <td>1</td>\n",
       "      <td>12</td>\n",
       "    </tr>\n",
       "    <tr>\n",
       "      <th>5</th>\n",
       "      <td>1</td>\n",
       "      <td>1</td>\n",
       "      <td>2</td>\n",
       "      <td>5</td>\n",
       "    </tr>\n",
       "    <tr>\n",
       "      <th>4</th>\n",
       "      <td>1</td>\n",
       "      <td>2</td>\n",
       "      <td>3</td>\n",
       "      <td>4</td>\n",
       "    </tr>\n",
       "    <tr>\n",
       "      <th>8</th>\n",
       "      <td>1</td>\n",
       "      <td>2</td>\n",
       "      <td>4</td>\n",
       "      <td>8</td>\n",
       "    </tr>\n",
       "    <tr>\n",
       "      <th>7</th>\n",
       "      <td>1</td>\n",
       "      <td>3</td>\n",
       "      <td>5</td>\n",
       "      <td>7</td>\n",
       "    </tr>\n",
       "    <tr>\n",
       "      <th>1</th>\n",
       "      <td>1</td>\n",
       "      <td>4</td>\n",
       "      <td>6</td>\n",
       "      <td>1</td>\n",
       "    </tr>\n",
       "    <tr>\n",
       "      <th>3</th>\n",
       "      <td>1</td>\n",
       "      <td>5</td>\n",
       "      <td>7</td>\n",
       "      <td>3</td>\n",
       "    </tr>\n",
       "    <tr>\n",
       "      <th>10</th>\n",
       "      <td>1</td>\n",
       "      <td>6</td>\n",
       "      <td>8</td>\n",
       "      <td>10</td>\n",
       "    </tr>\n",
       "    <tr>\n",
       "      <th>2</th>\n",
       "      <td>1</td>\n",
       "      <td>6</td>\n",
       "      <td>9</td>\n",
       "      <td>2</td>\n",
       "    </tr>\n",
       "    <tr>\n",
       "      <th>11</th>\n",
       "      <td>1</td>\n",
       "      <td>6</td>\n",
       "      <td>10</td>\n",
       "      <td>11</td>\n",
       "    </tr>\n",
       "  </tbody>\n",
       "</table>\n",
       "</div>"
      ],
      "text/plain": [
       "    Level_0  Level_1  Level_2  Level_3\n",
       "12        1        1        1       12\n",
       "5         1        1        2        5\n",
       "4         1        2        3        4\n",
       "8         1        2        4        8\n",
       "7         1        3        5        7\n",
       "1         1        4        6        1\n",
       "3         1        5        7        3\n",
       "10        1        6        8       10\n",
       "2         1        6        9        2\n",
       "11        1        6       10       11"
      ]
     },
     "execution_count": 68,
     "metadata": {},
     "output_type": "execute_result"
    }
   ],
   "source": [
    "hierarchy_data.head(10)"
   ]
  },
  {
   "cell_type": "code",
   "execution_count": null,
   "metadata": {
    "collapsed": true
   },
   "outputs": [],
   "source": []
  },
  {
   "cell_type": "markdown",
   "metadata": {},
   "source": [
    "#### 3. Load and preprocess train data"
   ]
  },
  {
   "cell_type": "code",
   "execution_count": 69,
   "metadata": {
    "collapsed": true
   },
   "outputs": [],
   "source": [
    "data = pd.read_csv('data/train.csv')"
   ]
  },
  {
   "cell_type": "code",
   "execution_count": 70,
   "metadata": {},
   "outputs": [
    {
     "data": {
      "text/html": [
       "<div>\n",
       "<style scoped>\n",
       "    .dataframe tbody tr th:only-of-type {\n",
       "        vertical-align: middle;\n",
       "    }\n",
       "\n",
       "    .dataframe tbody tr th {\n",
       "        vertical-align: top;\n",
       "    }\n",
       "\n",
       "    .dataframe thead th {\n",
       "        text-align: right;\n",
       "    }\n",
       "</style>\n",
       "<table border=\"1\" class=\"dataframe\">\n",
       "  <thead>\n",
       "    <tr style=\"text-align: right;\">\n",
       "      <th></th>\n",
       "      <th>item_id</th>\n",
       "      <th>title</th>\n",
       "      <th>description</th>\n",
       "      <th>price</th>\n",
       "      <th>category_id</th>\n",
       "    </tr>\n",
       "  </thead>\n",
       "  <tbody>\n",
       "    <tr>\n",
       "      <th>0</th>\n",
       "      <td>0</td>\n",
       "      <td>Картина</td>\n",
       "      <td>Гобелен. Размеры 139х84см.</td>\n",
       "      <td>1000.0</td>\n",
       "      <td>19</td>\n",
       "    </tr>\n",
       "    <tr>\n",
       "      <th>1</th>\n",
       "      <td>1</td>\n",
       "      <td>Стулья из прессованной кожи</td>\n",
       "      <td>Продам недорого 4 стула из светлой прессованно...</td>\n",
       "      <td>1250.0</td>\n",
       "      <td>22</td>\n",
       "    </tr>\n",
       "    <tr>\n",
       "      <th>2</th>\n",
       "      <td>2</td>\n",
       "      <td>Домашняя мини баня</td>\n",
       "      <td>Мини баня МБ-1(мини сауна), предназначена для ...</td>\n",
       "      <td>13000.0</td>\n",
       "      <td>37</td>\n",
       "    </tr>\n",
       "    <tr>\n",
       "      <th>3</th>\n",
       "      <td>3</td>\n",
       "      <td>Эксклюзивная коллекция книг \"Трансаэро\" + подарок</td>\n",
       "      <td>Продам эксклюзивную коллекцию книг, выпущенную...</td>\n",
       "      <td>4000.0</td>\n",
       "      <td>43</td>\n",
       "    </tr>\n",
       "    <tr>\n",
       "      <th>4</th>\n",
       "      <td>4</td>\n",
       "      <td>Ноутбук aser</td>\n",
       "      <td>Продаётся ноутбук ACER e5-511C2TA. Куплен в ко...</td>\n",
       "      <td>19000.0</td>\n",
       "      <td>1</td>\n",
       "    </tr>\n",
       "  </tbody>\n",
       "</table>\n",
       "</div>"
      ],
      "text/plain": [
       "   item_id                                              title  \\\n",
       "0        0                                            Картина   \n",
       "1        1                        Стулья из прессованной кожи   \n",
       "2        2                                 Домашняя мини баня   \n",
       "3        3  Эксклюзивная коллекция книг \"Трансаэро\" + подарок   \n",
       "4        4                                       Ноутбук aser   \n",
       "\n",
       "                                         description    price  category_id  \n",
       "0                         Гобелен. Размеры 139х84см.   1000.0           19  \n",
       "1  Продам недорого 4 стула из светлой прессованно...   1250.0           22  \n",
       "2  Мини баня МБ-1(мини сауна), предназначена для ...  13000.0           37  \n",
       "3  Продам эксклюзивную коллекцию книг, выпущенную...   4000.0           43  \n",
       "4  Продаётся ноутбук ACER e5-511C2TA. Куплен в ко...  19000.0            1  "
      ]
     },
     "execution_count": 70,
     "metadata": {},
     "output_type": "execute_result"
    }
   ],
   "source": [
    "data.head()"
   ]
  },
  {
   "cell_type": "markdown",
   "metadata": {},
   "source": [
    "For baseline model, we'll just attach the ad title to its content, and we won't use the price at all:"
   ]
  },
  {
   "cell_type": "code",
   "execution_count": 71,
   "metadata": {
    "collapsed": true
   },
   "outputs": [],
   "source": [
    "data['description'] = data['title'] + ' ' + data['description']\n",
    "data.drop(['item_id', 'title', 'price'], axis=1, inplace=True)"
   ]
  },
  {
   "cell_type": "code",
   "execution_count": 72,
   "metadata": {
    "scrolled": true
   },
   "outputs": [
    {
     "data": {
      "text/html": [
       "<div>\n",
       "<style scoped>\n",
       "    .dataframe tbody tr th:only-of-type {\n",
       "        vertical-align: middle;\n",
       "    }\n",
       "\n",
       "    .dataframe tbody tr th {\n",
       "        vertical-align: top;\n",
       "    }\n",
       "\n",
       "    .dataframe thead th {\n",
       "        text-align: right;\n",
       "    }\n",
       "</style>\n",
       "<table border=\"1\" class=\"dataframe\">\n",
       "  <thead>\n",
       "    <tr style=\"text-align: right;\">\n",
       "      <th></th>\n",
       "      <th>description</th>\n",
       "      <th>category_id</th>\n",
       "    </tr>\n",
       "  </thead>\n",
       "  <tbody>\n",
       "    <tr>\n",
       "      <th>0</th>\n",
       "      <td>Картина Гобелен. Размеры 139х84см.</td>\n",
       "      <td>19</td>\n",
       "    </tr>\n",
       "    <tr>\n",
       "      <th>1</th>\n",
       "      <td>Стулья из прессованной кожи Продам недорого 4 ...</td>\n",
       "      <td>22</td>\n",
       "    </tr>\n",
       "    <tr>\n",
       "      <th>2</th>\n",
       "      <td>Домашняя мини баня Мини баня МБ-1(мини сауна),...</td>\n",
       "      <td>37</td>\n",
       "    </tr>\n",
       "    <tr>\n",
       "      <th>3</th>\n",
       "      <td>Эксклюзивная коллекция книг \"Трансаэро\" + пода...</td>\n",
       "      <td>43</td>\n",
       "    </tr>\n",
       "    <tr>\n",
       "      <th>4</th>\n",
       "      <td>Ноутбук aser Продаётся ноутбук ACER e5-511C2TA...</td>\n",
       "      <td>1</td>\n",
       "    </tr>\n",
       "  </tbody>\n",
       "</table>\n",
       "</div>"
      ],
      "text/plain": [
       "                                         description  category_id\n",
       "0                 Картина Гобелен. Размеры 139х84см.           19\n",
       "1  Стулья из прессованной кожи Продам недорого 4 ...           22\n",
       "2  Домашняя мини баня Мини баня МБ-1(мини сауна),...           37\n",
       "3  Эксклюзивная коллекция книг \"Трансаэро\" + пода...           43\n",
       "4  Ноутбук aser Продаётся ноутбук ACER e5-511C2TA...            1"
      ]
     },
     "execution_count": 72,
     "metadata": {},
     "output_type": "execute_result"
    }
   ],
   "source": [
    "data.head()"
   ]
  },
  {
   "cell_type": "code",
   "execution_count": null,
   "metadata": {
    "collapsed": true
   },
   "outputs": [],
   "source": []
  },
  {
   "cell_type": "markdown",
   "metadata": {},
   "source": [
    "Apply **normalize** function:"
   ]
  },
  {
   "cell_type": "code",
   "execution_count": 24,
   "metadata": {
    "scrolled": true
   },
   "outputs": [
    {
     "name": "stdout",
     "output_type": "stream",
     "text": [
      "CPU times: user 5min 9s, sys: 17 s, total: 5min 26s\n",
      "Wall time: 21min 54s\n"
     ]
    }
   ],
   "source": [
    "%%time\n",
    "\n",
    "#  ~20 min\n",
    "data['description'] = data['description'].apply(lambda s: normalize(s))"
   ]
  },
  {
   "cell_type": "code",
   "execution_count": 26,
   "metadata": {
    "scrolled": false
   },
   "outputs": [
    {
     "data": {
      "text/html": [
       "<div>\n",
       "<style scoped>\n",
       "    .dataframe tbody tr th:only-of-type {\n",
       "        vertical-align: middle;\n",
       "    }\n",
       "\n",
       "    .dataframe tbody tr th {\n",
       "        vertical-align: top;\n",
       "    }\n",
       "\n",
       "    .dataframe thead th {\n",
       "        text-align: right;\n",
       "    }\n",
       "</style>\n",
       "<table border=\"1\" class=\"dataframe\">\n",
       "  <thead>\n",
       "    <tr style=\"text-align: right;\">\n",
       "      <th></th>\n",
       "      <th>description</th>\n",
       "      <th>category_id</th>\n",
       "    </tr>\n",
       "  </thead>\n",
       "  <tbody>\n",
       "    <tr>\n",
       "      <th>0</th>\n",
       "      <td>картина гобелен размер</td>\n",
       "      <td>19</td>\n",
       "    </tr>\n",
       "    <tr>\n",
       "      <th>1</th>\n",
       "      <td>стул прессованный кожа продавать недорого стул...</td>\n",
       "      <td>22</td>\n",
       "    </tr>\n",
       "    <tr>\n",
       "      <th>2</th>\n",
       "      <td>домашний мини баня мини баня мб мини сауна пре...</td>\n",
       "      <td>37</td>\n",
       "    </tr>\n",
       "    <tr>\n",
       "      <th>3</th>\n",
       "      <td>эксклюзивный коллекция книга трансаэро подарок...</td>\n",
       "      <td>43</td>\n",
       "    </tr>\n",
       "    <tr>\n",
       "      <th>4</th>\n",
       "      <td>ноутбук aser продаваться ноутбук acer e5 купит...</td>\n",
       "      <td>1</td>\n",
       "    </tr>\n",
       "  </tbody>\n",
       "</table>\n",
       "</div>"
      ],
      "text/plain": [
       "                                         description  category_id\n",
       "0                             картина гобелен размер           19\n",
       "1  стул прессованный кожа продавать недорого стул...           22\n",
       "2  домашний мини баня мини баня мб мини сауна пре...           37\n",
       "3  эксклюзивный коллекция книга трансаэро подарок...           43\n",
       "4  ноутбук aser продаваться ноутбук acer e5 купит...            1"
      ]
     },
     "execution_count": 26,
     "metadata": {},
     "output_type": "execute_result"
    }
   ],
   "source": [
    "data.head()"
   ]
  },
  {
   "cell_type": "markdown",
   "metadata": {},
   "source": [
    "Now let's find out which words are most frequent in all ads. This will help to identify an additional set of words that do not carry any information load for the model in terms of categorizing ads. In a good way, this should be done through **TFiDF** but first let's try to find such words visually. It turns out that even this approach gives an increased quality."
   ]
  },
  {
   "cell_type": "code",
   "execution_count": 28,
   "metadata": {
    "collapsed": true
   },
   "outputs": [],
   "source": [
    "all_words = ' '.join(data['description'].values)"
   ]
  },
  {
   "cell_type": "code",
   "execution_count": 29,
   "metadata": {
    "scrolled": false
   },
   "outputs": [
    {
     "data": {
      "text/plain": [
       "'картина гобелен размер стул прессованный кожа продавать недорого стул светлый прессованный кожа стильный ножка дугообразный домашний мини баня мини баня мб мини сауна предназначать принятие тепловой процедура бытовой условие дом дача также спортивный оздоровительный косметический лечебный организация учреждение оказывать общеукрепляющий профилактический действие организм человек номинальный напряжение переменный ток максимальный мощность вт максимальный температура нагревать воздух термочехол градус время достижение рабочий температура мина время достижение максимальный температура мина габаритный размер тепловой камера рабочий состояние мм длина ширина высота масса кг мини баня становиться отличный подарок мужчина женщина эксклюзивный коллекция книга трансаэро подарок продавать эксклюзивный коллекция книга выпускать ограниченный тираж заказ авиакомпания трансаэро серия детектив трансаэро коллекция входить книга габорио эмиль дело честертон рассказ патер браун конан дойл плясать челове'"
      ]
     },
     "execution_count": 29,
     "metadata": {},
     "output_type": "execute_result"
    }
   ],
   "source": [
    "all_words[:1000]"
   ]
  },
  {
   "cell_type": "code",
   "execution_count": 30,
   "metadata": {
    "collapsed": true
   },
   "outputs": [],
   "source": [
    "# Calculate the frequency of occurrence of words among all ads using Counter\n",
    "from collections import Counter"
   ]
  },
  {
   "cell_type": "code",
   "execution_count": 31,
   "metadata": {
    "collapsed": true,
    "scrolled": true
   },
   "outputs": [],
   "source": [
    "counter = Counter(all_words.split(' '))"
   ]
  },
  {
   "cell_type": "code",
   "execution_count": 32,
   "metadata": {
    "scrolled": true
   },
   "outputs": [
    {
     "data": {
      "text/plain": [
       "[('продавать', 190762),\n",
       " ('состояние', 165078),\n",
       " ('новый', 129101),\n",
       " ('размер', 94986),\n",
       " ('отличный', 77096),\n",
       " ('весь', 76560),\n",
       " ('см', 76472),\n",
       " ('хороший', 75802),\n",
       " ('цена', 72540),\n",
       " ('комплект', 68230),\n",
       " ('мм', 63859),\n",
       " ('телефон', 58657),\n",
       " ('цвет', 56260),\n",
       " ('руб', 53718),\n",
       " ('год', 52807),\n",
       " ('торг', 50101),\n",
       " ('доставка', 44145),\n",
       " ('очень', 43039),\n",
       " ('чехол', 40762),\n",
       " ('звонить', 38367),\n",
       " ('работать', 37881),\n",
       " ('любой', 37167),\n",
       " ('вес', 36115),\n",
       " ('материал', 35746),\n",
       " ('высота', 34848),\n",
       " ('тип', 34693),\n",
       " ('время', 34560),\n",
       " ('мочь', 34153),\n",
       " ('экран', 34140),\n",
       " ('возможный', 32318),\n",
       " ('память', 31690),\n",
       " ('кг', 31636),\n",
       " ('работа', 31063),\n",
       " ('товар', 31023),\n",
       " ('рубль', 29515),\n",
       " ('коробка', 29462),\n",
       " ('наличие', 28895),\n",
       " ('шт', 28712),\n",
       " ('идеальный', 28626),\n",
       " ('продаваться', 28003),\n",
       " ('ваш', 27941),\n",
       " ('гарантия', 27595),\n",
       " ('наш', 27583),\n",
       " ('день', 27267),\n",
       " ('корпус', 27185),\n",
       " ('магазин', 27100),\n",
       " ('который', 26501),\n",
       " ('система', 26483),\n",
       " ('детский', 26415),\n",
       " ('карта', 25809),\n",
       " ('фото', 25519),\n",
       " ('дверь', 24914),\n",
       " ('большой', 24879),\n",
       " ('черный', 24867),\n",
       " ('это', 24827),\n",
       " ('подарок', 24679),\n",
       " ('игра', 24520),\n",
       " ('рабочий', 24061),\n",
       " ('питание', 23992),\n",
       " ('samsung', 23536),\n",
       " ('ребенок', 23391),\n",
       " ('модель', 23369),\n",
       " ('характеристика', 23199),\n",
       " ('полный', 23167),\n",
       " ('ширина', 22414),\n",
       " ('удобный', 22357),\n",
       " ('часы', 21621),\n",
       " ('подходить', 21607),\n",
       " ('также', 21573),\n",
       " ('длина', 21530),\n",
       " ('качество', 21418),\n",
       " ('стекло', 21334),\n",
       " ('белый', 21325),\n",
       " ('коляска', 21214),\n",
       " ('гб', 21016),\n",
       " ('россия', 20953),\n",
       " ('производитель', 20367),\n",
       " ('мощность', 20353),\n",
       " ('диск', 20328),\n",
       " ('монитор', 20217),\n",
       " ('процессор', 20139),\n",
       " ('купить', 20102),\n",
       " ('вид', 19861),\n",
       " ('количество', 19856),\n",
       " ('блок', 19636),\n",
       " ('iphone', 19619),\n",
       " ('обмен', 19549),\n",
       " ('упаковка', 19231),\n",
       " ('стол', 19150),\n",
       " ('sony', 18804),\n",
       " ('камера', 18543),\n",
       " ('почта', 18213),\n",
       " ('писать', 18122),\n",
       " ('час', 18099),\n",
       " ('платье', 17807),\n",
       " ('самовывоз', 17775),\n",
       " ('вт', 17739),\n",
       " ('стоимость', 17567),\n",
       " ('набор', 17484),\n",
       " ('продажа', 17380)]"
      ]
     },
     "execution_count": 32,
     "metadata": {},
     "output_type": "execute_result"
    }
   ],
   "source": [
    "counter.most_common()[:100]"
   ]
  },
  {
   "cell_type": "markdown",
   "metadata": {},
   "source": [
    "Easy to see that there are quite a few words, the removal of which, at least, should keep the quality of the model at the same level, while the model itself should be simplified by reducing the number of words in the general vocabulary. Compile such a list of words manually and remove them from the training sample"
   ]
  },
  {
   "cell_type": "code",
   "execution_count": 147,
   "metadata": {
    "collapsed": true
   },
   "outputs": [],
   "source": [
    "CUSTOM_STOPWORDS = ['цена', 'руб', 'звонить', 'работать', 'работа', 'рубль',\n",
    "'который', 'это', 'также', 'стоимость', 'весь', 'новый', 'отличный', 'идеальный', \n",
    "'хороший', 'торг', 'очень', 'любой', 'время', 'возможный', 'день', 'большой', 'удобный',\n",
    "'свой', 'продажа', 'иметь', 'иметься', 'самый', 'покупать', 'срочно', 'полностью'] "
   ]
  },
  {
   "cell_type": "code",
   "execution_count": 34,
   "metadata": {},
   "outputs": [
    {
     "name": "stdout",
     "output_type": "stream",
     "text": [
      "CPU times: user 9.96 s, sys: 167 ms, total: 10.1 s\n",
      "Wall time: 10.1 s\n"
     ]
    }
   ],
   "source": [
    "%%time\n",
    "\n",
    "data['description'] = data['description'].apply(lambda text: \n",
    "                                                \" \".join([token for token in text.split(' ') \n",
    "                                                if token not in CUSTOM_STOPWORDS]))"
   ]
  },
  {
   "cell_type": "code",
   "execution_count": null,
   "metadata": {
    "collapsed": true
   },
   "outputs": [],
   "source": []
  },
  {
   "cell_type": "markdown",
   "metadata": {},
   "source": [
    "Now let's prepare the data for training with **fastText**. We need to create a csv file, in which the first column will contain a class label in the form `labelN`, where `N` is the class number, in the second column - the text of the preprocessed declaration:"
   ]
  },
  {
   "cell_type": "code",
   "execution_count": 35,
   "metadata": {
    "collapsed": true
   },
   "outputs": [],
   "source": [
    "data['ft_category_id'] = data['category_id'].apply(lambda s: '__label__' + str(s))"
   ]
  },
  {
   "cell_type": "code",
   "execution_count": 36,
   "metadata": {},
   "outputs": [
    {
     "data": {
      "text/html": [
       "<div>\n",
       "<style scoped>\n",
       "    .dataframe tbody tr th:only-of-type {\n",
       "        vertical-align: middle;\n",
       "    }\n",
       "\n",
       "    .dataframe tbody tr th {\n",
       "        vertical-align: top;\n",
       "    }\n",
       "\n",
       "    .dataframe thead th {\n",
       "        text-align: right;\n",
       "    }\n",
       "</style>\n",
       "<table border=\"1\" class=\"dataframe\">\n",
       "  <thead>\n",
       "    <tr style=\"text-align: right;\">\n",
       "      <th></th>\n",
       "      <th>description</th>\n",
       "      <th>category_id</th>\n",
       "      <th>ft_category_id</th>\n",
       "    </tr>\n",
       "  </thead>\n",
       "  <tbody>\n",
       "    <tr>\n",
       "      <th>0</th>\n",
       "      <td>картина гобелен размер</td>\n",
       "      <td>19</td>\n",
       "      <td>__label__19</td>\n",
       "    </tr>\n",
       "    <tr>\n",
       "      <th>1</th>\n",
       "      <td>стул прессованный кожа продавать недорого стул...</td>\n",
       "      <td>22</td>\n",
       "      <td>__label__22</td>\n",
       "    </tr>\n",
       "    <tr>\n",
       "      <th>2</th>\n",
       "      <td>домашний мини баня мини баня мб мини сауна пре...</td>\n",
       "      <td>37</td>\n",
       "      <td>__label__37</td>\n",
       "    </tr>\n",
       "    <tr>\n",
       "      <th>3</th>\n",
       "      <td>эксклюзивный коллекция книга трансаэро подарок...</td>\n",
       "      <td>43</td>\n",
       "      <td>__label__43</td>\n",
       "    </tr>\n",
       "    <tr>\n",
       "      <th>4</th>\n",
       "      <td>ноутбук aser продаваться ноутбук acer e5 купит...</td>\n",
       "      <td>1</td>\n",
       "      <td>__label__1</td>\n",
       "    </tr>\n",
       "  </tbody>\n",
       "</table>\n",
       "</div>"
      ],
      "text/plain": [
       "                                         description  category_id  \\\n",
       "0                             картина гобелен размер           19   \n",
       "1  стул прессованный кожа продавать недорого стул...           22   \n",
       "2  домашний мини баня мини баня мб мини сауна пре...           37   \n",
       "3  эксклюзивный коллекция книга трансаэро подарок...           43   \n",
       "4  ноутбук aser продаваться ноутбук acer e5 купит...            1   \n",
       "\n",
       "  ft_category_id  \n",
       "0    __label__19  \n",
       "1    __label__22  \n",
       "2    __label__37  \n",
       "3    __label__43  \n",
       "4     __label__1  "
      ]
     },
     "execution_count": 36,
     "metadata": {},
     "output_type": "execute_result"
    }
   ],
   "source": [
    "data.head()"
   ]
  },
  {
   "cell_type": "markdown",
   "metadata": {},
   "source": [
    "Now we can finish with creating a dictionary for \"matching\" classes from different levels of the hierarchy"
   ]
  },
  {
   "cell_type": "code",
   "execution_count": 85,
   "metadata": {},
   "outputs": [],
   "source": [
    "hierarchy_data['Level_3'] = hierarchy_data['Level_3'].apply(lambda s: '__label__' + str(s))\n",
    "cat_id_dict = hierarchy_data.set_index('Level_3')[['Level_0', 'Level_1', 'Level_2']].to_dict()"
   ]
  },
  {
   "cell_type": "code",
   "execution_count": 183,
   "metadata": {
    "scrolled": true
   },
   "outputs": [
    {
     "data": {
      "text/plain": [
       "{'__label__0': 1,\n",
       " '__label__1': 1,\n",
       " '__label__10': 1,\n",
       " '__label__11': 1,\n",
       " '__label__12': 1,\n",
       " '__label__13': 1,\n",
       " '__label__14': 1,\n",
       " '__label__15': 2,\n",
       " '__label__16': 2,\n",
       " '__label__17': 2,\n",
       " '__label__18': 2,\n",
       " '__label__19': 2,\n",
       " '__label__2': 1,\n",
       " '__label__20': 2,\n",
       " '__label__21': 2,\n",
       " '__label__22': 2,\n",
       " '__label__23': 2,\n",
       " '__label__24': 2,\n",
       " '__label__25': 2,\n",
       " '__label__26': 2,\n",
       " '__label__27': 2,\n",
       " '__label__28': 2,\n",
       " '__label__29': 2,\n",
       " '__label__3': 1,\n",
       " '__label__30': 3,\n",
       " '__label__31': 3,\n",
       " '__label__32': 3,\n",
       " '__label__33': 3,\n",
       " '__label__34': 3,\n",
       " '__label__35': 3,\n",
       " '__label__36': 3,\n",
       " '__label__37': 3,\n",
       " '__label__38': 3,\n",
       " '__label__39': 3,\n",
       " '__label__4': 1,\n",
       " '__label__40': 3,\n",
       " '__label__41': 3,\n",
       " '__label__42': 4,\n",
       " '__label__43': 4,\n",
       " '__label__44': 4,\n",
       " '__label__45': 4,\n",
       " '__label__46': 4,\n",
       " '__label__47': 4,\n",
       " '__label__48': 4,\n",
       " '__label__49': 4,\n",
       " '__label__5': 1,\n",
       " '__label__50': 4,\n",
       " '__label__51': 4,\n",
       " '__label__52': 4,\n",
       " '__label__53': 4,\n",
       " '__label__6': 1,\n",
       " '__label__7': 1,\n",
       " '__label__8': 1,\n",
       " '__label__9': 1}"
      ]
     },
     "execution_count": 183,
     "metadata": {},
     "output_type": "execute_result"
    }
   ],
   "source": [
    "cat_id_dict['Level_0']"
   ]
  },
  {
   "cell_type": "code",
   "execution_count": null,
   "metadata": {
    "collapsed": true
   },
   "outputs": [],
   "source": []
  },
  {
   "cell_type": "markdown",
   "metadata": {},
   "source": [
    "#### 4. Building a model and checking its quality using cross-validation"
   ]
  },
  {
   "cell_type": "markdown",
   "metadata": {},
   "source": [
    "To assess the quality of the model, we use 10-folds cross-validation with stratification. First, check the balance of the training set:"
   ]
  },
  {
   "cell_type": "code",
   "execution_count": 189,
   "metadata": {},
   "outputs": [
    {
     "data": {
      "text/plain": [
       "<matplotlib.axes._subplots.AxesSubplot at 0x7fe216c09208>"
      ]
     },
     "execution_count": 189,
     "metadata": {},
     "output_type": "execute_result"
    },
    {
     "data": {
      "image/png": "[encoded data removed]",
      "text/plain": [
       "<matplotlib.figure.Figure at 0x7fe216c4f6d8>"
      ]
     },
     "metadata": {},
     "output_type": "display_data"
    }
   ],
   "source": [
    "%matplotlib inline\n",
    "data.groupby(['category_id']).size().hist(bins=54)"
   ]
  },
  {
   "cell_type": "markdown",
   "metadata": {},
   "source": [
    "The data sample is balanced, the number of representatives of each class is approximately equal.\n",
    "\n",
    "Let's perform cross-validation procedure to assess the quality of the model. The quality on the test sample will be recorded for each level of the category hierarchy."
   ]
  },
  {
   "cell_type": "code",
   "execution_count": 81,
   "metadata": {
    "collapsed": true
   },
   "outputs": [],
   "source": [
    "# Generator object for obtaining sets of indices for training and for checking the \n",
    "# quality of the model at each iteration of cross-validation\n",
    "skf = StratifiedKFold(n_splits=10, random_state=42)"
   ]
  },
  {
   "cell_type": "code",
   "execution_count": 128,
   "metadata": {
    "scrolled": true
   },
   "outputs": [
    {
     "name": "stdout",
     "output_type": "stream",
     "text": [
      "CV iteration: 1, test accuracy = 0.88307\n",
      "CV iteration: 2, test accuracy = 0.87932\n",
      "CV iteration: 3, test accuracy = 0.88157\n",
      "CV iteration: 4, test accuracy = 0.88135\n",
      "CV iteration: 5, test accuracy = 0.87878\n",
      "CV iteration: 6, test accuracy = 0.87985\n",
      "CV iteration: 7, test accuracy = 0.88098\n",
      "CV iteration: 8, test accuracy = 0.88067\n",
      "CV iteration: 9, test accuracy = 0.88277\n",
      "CV iteration: 10, test accuracy = 0.88025\n"
     ]
    }
   ],
   "source": [
    "accuracies_cv_data = pd.DataFrame(columns=['CV_iteration'] + \n",
    "                                          ['Acc_level_{0}'.format(i) for i in range(0, 4)])\n",
    "cv_iteration = 1\n",
    "\n",
    "for train_index, test_index in skf.split(data[['description']], data['ft_category_id']):\n",
    "\n",
    "    X_train, X_test = data[['description']].iloc[train_index], data[['description']].iloc[test_index]\n",
    "    y_train, y_test = data['ft_category_id'].iloc[train_index], data['ft_category_id'].iloc[test_index]\n",
    "    \n",
    "    X_train['ft_category_id'] = y_train\n",
    "    X_test['ft_category_id'] = y_test\n",
    "    \n",
    "    # Save train dataset to file\n",
    "    X_train.loc[:, ['ft_category_id', 'description']].to_csv('data_final_train_cv.txt', \n",
    "                                                             header=False,\n",
    "                                                             sep=' ',\n",
    "                                                             index=None, \n",
    "                                                             quoting=csv.QUOTE_NONE, \n",
    "                                                             escapechar=' ')\n",
    "    \n",
    "    # Create fastText model\n",
    "    model = ft.train_supervised('data_final_train_cv.txt', \n",
    "                                epoch=15, \n",
    "                                wordNgrams=3, \n",
    "                                dim=150,\n",
    "                                thread=4)\n",
    "    \n",
    "    # Prediction for test data\n",
    "    X_test['predicted_id'] = X_test['description'].apply(lambda s: model.predict(s.strip())[0][0])\n",
    "    \n",
    "    # Calculate model quality for different category levels\n",
    "    acc_level_3 = accuracy_score(X_test['ft_category_id'], X_test['predicted_id'])\n",
    "    \n",
    "    acc_level_2 = accuracy_score(X_test['ft_category_id'].map(cat_id_dict['Level_2']), \n",
    "                                 X_test['predicted_id'].map(cat_id_dict['Level_2']))\n",
    "    \n",
    "    acc_level_1 = accuracy_score(X_test['ft_category_id'].map(cat_id_dict['Level_1']), \n",
    "                                 X_test['predicted_id'].map(cat_id_dict['Level_1']))\n",
    "\n",
    "    acc_level_0 = accuracy_score(X_test['ft_category_id'].map(cat_id_dict['Level_0']), \n",
    "                                 X_test['predicted_id'].map(cat_id_dict['Level_0']))\n",
    "    \n",
    "    accuracies_cv_data.loc[cv_iteration] = [cv_iteration,\n",
    "                                            acc_level_0,\n",
    "                                            acc_level_1,\n",
    "                                            acc_level_2,\n",
    "                                            acc_level_3]\n",
    "   \n",
    "    print(\"\"\"CV iteration: {0}, test accuracy = {1:.5f}\"\"\".format(cv_iteration, acc_level_3))\n",
    "       \n",
    "    cv_iteration += 1\n"
   ]
  },
  {
   "cell_type": "code",
   "execution_count": 131,
   "metadata": {},
   "outputs": [
    {
     "data": {
      "text/html": [
       "<div>\n",
       "<style scoped>\n",
       "    .dataframe tbody tr th:only-of-type {\n",
       "        vertical-align: middle;\n",
       "    }\n",
       "\n",
       "    .dataframe tbody tr th {\n",
       "        vertical-align: top;\n",
       "    }\n",
       "\n",
       "    .dataframe thead th {\n",
       "        text-align: right;\n",
       "    }\n",
       "</style>\n",
       "<table border=\"1\" class=\"dataframe\">\n",
       "  <thead>\n",
       "    <tr style=\"text-align: right;\">\n",
       "      <th></th>\n",
       "      <th>CV_iteration</th>\n",
       "      <th>Acc_level_0</th>\n",
       "      <th>Acc_level_1</th>\n",
       "      <th>Acc_level_2</th>\n",
       "      <th>Acc_level_3</th>\n",
       "    </tr>\n",
       "  </thead>\n",
       "  <tbody>\n",
       "    <tr>\n",
       "      <th>1</th>\n",
       "      <td>1.0</td>\n",
       "      <td>0.964720</td>\n",
       "      <td>0.946283</td>\n",
       "      <td>0.887850</td>\n",
       "      <td>0.883072</td>\n",
       "    </tr>\n",
       "    <tr>\n",
       "      <th>2</th>\n",
       "      <td>2.0</td>\n",
       "      <td>0.961429</td>\n",
       "      <td>0.941234</td>\n",
       "      <td>0.884000</td>\n",
       "      <td>0.879324</td>\n",
       "    </tr>\n",
       "    <tr>\n",
       "      <th>3</th>\n",
       "      <td>3.0</td>\n",
       "      <td>0.963076</td>\n",
       "      <td>0.943553</td>\n",
       "      <td>0.886534</td>\n",
       "      <td>0.881571</td>\n",
       "    </tr>\n",
       "    <tr>\n",
       "      <th>4</th>\n",
       "      <td>4.0</td>\n",
       "      <td>0.963420</td>\n",
       "      <td>0.944119</td>\n",
       "      <td>0.886154</td>\n",
       "      <td>0.881355</td>\n",
       "    </tr>\n",
       "    <tr>\n",
       "      <th>5</th>\n",
       "      <td>5.0</td>\n",
       "      <td>0.960615</td>\n",
       "      <td>0.940800</td>\n",
       "      <td>0.883582</td>\n",
       "      <td>0.878782</td>\n",
       "    </tr>\n",
       "    <tr>\n",
       "      <th>6</th>\n",
       "      <td>6.0</td>\n",
       "      <td>0.961755</td>\n",
       "      <td>0.942080</td>\n",
       "      <td>0.884896</td>\n",
       "      <td>0.879850</td>\n",
       "    </tr>\n",
       "    <tr>\n",
       "      <th>7</th>\n",
       "      <td>7.0</td>\n",
       "      <td>0.963385</td>\n",
       "      <td>0.943566</td>\n",
       "      <td>0.885456</td>\n",
       "      <td>0.880982</td>\n",
       "    </tr>\n",
       "    <tr>\n",
       "      <th>8</th>\n",
       "      <td>8.0</td>\n",
       "      <td>0.962054</td>\n",
       "      <td>0.943050</td>\n",
       "      <td>0.885569</td>\n",
       "      <td>0.880665</td>\n",
       "    </tr>\n",
       "    <tr>\n",
       "      <th>9</th>\n",
       "      <td>9.0</td>\n",
       "      <td>0.962273</td>\n",
       "      <td>0.942593</td>\n",
       "      <td>0.887536</td>\n",
       "      <td>0.882774</td>\n",
       "    </tr>\n",
       "    <tr>\n",
       "      <th>10</th>\n",
       "      <td>10.0</td>\n",
       "      <td>0.962617</td>\n",
       "      <td>0.941790</td>\n",
       "      <td>0.885644</td>\n",
       "      <td>0.880248</td>\n",
       "    </tr>\n",
       "  </tbody>\n",
       "</table>\n",
       "</div>"
      ],
      "text/plain": [
       "    CV_iteration  Acc_level_0  Acc_level_1  Acc_level_2  Acc_level_3\n",
       "1            1.0     0.964720     0.946283     0.887850     0.883072\n",
       "2            2.0     0.961429     0.941234     0.884000     0.879324\n",
       "3            3.0     0.963076     0.943553     0.886534     0.881571\n",
       "4            4.0     0.963420     0.944119     0.886154     0.881355\n",
       "5            5.0     0.960615     0.940800     0.883582     0.878782\n",
       "6            6.0     0.961755     0.942080     0.884896     0.879850\n",
       "7            7.0     0.963385     0.943566     0.885456     0.880982\n",
       "8            8.0     0.962054     0.943050     0.885569     0.880665\n",
       "9            9.0     0.962273     0.942593     0.887536     0.882774\n",
       "10          10.0     0.962617     0.941790     0.885644     0.880248"
      ]
     },
     "execution_count": 131,
     "metadata": {},
     "output_type": "execute_result"
    }
   ],
   "source": [
    "# CV results for all category levels\n",
    "accuracies_cv_data"
   ]
  },
  {
   "cell_type": "code",
   "execution_count": 132,
   "metadata": {
    "scrolled": true
   },
   "outputs": [
    {
     "data": {
      "text/plain": [
       "Acc_level_0    0.962534\n",
       "Acc_level_1    0.942907\n",
       "Acc_level_2    0.885722\n",
       "Acc_level_3    0.880862\n",
       "dtype: float64"
      ]
     },
     "execution_count": 132,
     "metadata": {},
     "output_type": "execute_result"
    }
   ],
   "source": [
    "# Average CV results for all category levels\n",
    "accuracies_cv_data.drop('CV_iteration', axis=1).mean(axis=0)"
   ]
  },
  {
   "cell_type": "code",
   "execution_count": null,
   "metadata": {
    "collapsed": true
   },
   "outputs": [],
   "source": []
  },
  {
   "cell_type": "markdown",
   "metadata": {},
   "source": [
    "#### 5.Use all available labeled data to retrain the model, make a predictions for control dataset"
   ]
  },
  {
   "cell_type": "markdown",
   "metadata": {},
   "source": [
    "Now let's train the model with the same hyperparameters on all labeled data."
   ]
  },
  {
   "cell_type": "code",
   "execution_count": 135,
   "metadata": {
    "collapsed": true
   },
   "outputs": [],
   "source": [
    "data.loc[:, ['ft_category_id', 'description']].to_csv('data_final_train.txt', \n",
    "                                                             header=False,\n",
    "                                                             sep=' ',\n",
    "                                                             index=None, \n",
    "                                                             quoting=csv.QUOTE_NONE, \n",
    "                                                             escapechar=' ')"
   ]
  },
  {
   "cell_type": "code",
   "execution_count": 136,
   "metadata": {
    "collapsed": true
   },
   "outputs": [],
   "source": [
    "model = ft.train_supervised('data_final_train.txt', \n",
    "                            epoch=15, \n",
    "                            wordNgrams=3, \n",
    "                            dim=150,\n",
    "                            thread=4)"
   ]
  },
  {
   "cell_type": "code",
   "execution_count": null,
   "metadata": {
    "collapsed": true
   },
   "outputs": [],
   "source": []
  },
  {
   "cell_type": "markdown",
   "metadata": {},
   "source": [
    "Preprocessing for the control data according to the scheme similar to the one above"
   ]
  },
  {
   "cell_type": "code",
   "execution_count": 159,
   "metadata": {
    "collapsed": true
   },
   "outputs": [],
   "source": [
    "control_data = pd.read_csv('data/test.csv')"
   ]
  },
  {
   "cell_type": "code",
   "execution_count": 160,
   "metadata": {},
   "outputs": [
    {
     "data": {
      "text/html": [
       "<div>\n",
       "<style scoped>\n",
       "    .dataframe tbody tr th:only-of-type {\n",
       "        vertical-align: middle;\n",
       "    }\n",
       "\n",
       "    .dataframe tbody tr th {\n",
       "        vertical-align: top;\n",
       "    }\n",
       "\n",
       "    .dataframe thead th {\n",
       "        text-align: right;\n",
       "    }\n",
       "</style>\n",
       "<table border=\"1\" class=\"dataframe\">\n",
       "  <thead>\n",
       "    <tr style=\"text-align: right;\">\n",
       "      <th></th>\n",
       "      <th>item_id</th>\n",
       "      <th>title</th>\n",
       "      <th>description</th>\n",
       "      <th>price</th>\n",
       "    </tr>\n",
       "  </thead>\n",
       "  <tbody>\n",
       "    <tr>\n",
       "      <th>0</th>\n",
       "      <td>489517</td>\n",
       "      <td>Стоик журнальный сталь</td>\n",
       "      <td>продам журнальный столик изготавливаю столы из...</td>\n",
       "      <td>10000.0</td>\n",
       "    </tr>\n",
       "    <tr>\n",
       "      <th>1</th>\n",
       "      <td>489518</td>\n",
       "      <td>iPhone 5 64Gb</td>\n",
       "      <td>Телефон в хорошем состоянии. Комплект, гаранти...</td>\n",
       "      <td>12500.0</td>\n",
       "    </tr>\n",
       "    <tr>\n",
       "      <th>2</th>\n",
       "      <td>489519</td>\n",
       "      <td>Утеплитель</td>\n",
       "      <td>ТЕПЛОПЕЛЕН-ЛИДЕР ТЕПЛА!!! Толщина утеплителя :...</td>\n",
       "      <td>250.0</td>\n",
       "    </tr>\n",
       "    <tr>\n",
       "      <th>3</th>\n",
       "      <td>489520</td>\n",
       "      <td>Пальто демисезонное</td>\n",
       "      <td>Продам пальто женское (букле) в отличном состо...</td>\n",
       "      <td>1700.0</td>\n",
       "    </tr>\n",
       "    <tr>\n",
       "      <th>4</th>\n",
       "      <td>489521</td>\n",
       "      <td>Samsung syncmaster T200N</td>\n",
       "      <td>Условно рабочий, проблема в панели настройки м...</td>\n",
       "      <td>1000.0</td>\n",
       "    </tr>\n",
       "  </tbody>\n",
       "</table>\n",
       "</div>"
      ],
      "text/plain": [
       "   item_id                     title  \\\n",
       "0   489517    Стоик журнальный сталь   \n",
       "1   489518             iPhone 5 64Gb   \n",
       "2   489519                Утеплитель   \n",
       "3   489520       Пальто демисезонное   \n",
       "4   489521  Samsung syncmaster T200N   \n",
       "\n",
       "                                         description    price  \n",
       "0  продам журнальный столик изготавливаю столы из...  10000.0  \n",
       "1  Телефон в хорошем состоянии. Комплект, гаранти...  12500.0  \n",
       "2  ТЕПЛОПЕЛЕН-ЛИДЕР ТЕПЛА!!! Толщина утеплителя :...    250.0  \n",
       "3  Продам пальто женское (букле) в отличном состо...   1700.0  \n",
       "4  Условно рабочий, проблема в панели настройки м...   1000.0  "
      ]
     },
     "execution_count": 160,
     "metadata": {},
     "output_type": "execute_result"
    }
   ],
   "source": [
    "control_data.head()"
   ]
  },
  {
   "cell_type": "code",
   "execution_count": null,
   "metadata": {
    "collapsed": true
   },
   "outputs": [],
   "source": []
  },
  {
   "cell_type": "code",
   "execution_count": 161,
   "metadata": {},
   "outputs": [],
   "source": [
    "control_data['description'] = control_data['title'] + ' ' + control_data['description']\n",
    "control_data.drop(['title', 'price'], axis=1, inplace=True)"
   ]
  },
  {
   "cell_type": "code",
   "execution_count": 163,
   "metadata": {},
   "outputs": [
    {
     "name": "stdout",
     "output_type": "stream",
     "text": [
      "CPU times: user 2min 29s, sys: 7.84 s, total: 2min 37s\n",
      "Wall time: 11min 19s\n"
     ]
    }
   ],
   "source": [
    "%%time\n",
    "control_data['description'] = control_data['description'].apply(lambda s: normalize(s))"
   ]
  },
  {
   "cell_type": "code",
   "execution_count": 164,
   "metadata": {},
   "outputs": [],
   "source": [
    "control_data['description'] = control_data['description'].apply(lambda text: \n",
    "                                                \" \".join([token for token in text.split(' ') \n",
    "                                                if token not in CUSTOM_STOPWORDS]))"
   ]
  },
  {
   "cell_type": "code",
   "execution_count": 165,
   "metadata": {},
   "outputs": [
    {
     "data": {
      "text/html": [
       "<div>\n",
       "<style scoped>\n",
       "    .dataframe tbody tr th:only-of-type {\n",
       "        vertical-align: middle;\n",
       "    }\n",
       "\n",
       "    .dataframe tbody tr th {\n",
       "        vertical-align: top;\n",
       "    }\n",
       "\n",
       "    .dataframe thead th {\n",
       "        text-align: right;\n",
       "    }\n",
       "</style>\n",
       "<table border=\"1\" class=\"dataframe\">\n",
       "  <thead>\n",
       "    <tr style=\"text-align: right;\">\n",
       "      <th></th>\n",
       "      <th>item_id</th>\n",
       "      <th>description</th>\n",
       "    </tr>\n",
       "  </thead>\n",
       "  <tbody>\n",
       "    <tr>\n",
       "      <th>0</th>\n",
       "      <td>489517</td>\n",
       "      <td>стоик журнальный сталь продавать журнальный ст...</td>\n",
       "    </tr>\n",
       "    <tr>\n",
       "      <th>1</th>\n",
       "      <td>489518</td>\n",
       "      <td>iphone телефон состояние комплект гарантия сал...</td>\n",
       "    </tr>\n",
       "    <tr>\n",
       "      <th>2</th>\n",
       "      <td>489519</td>\n",
       "      <td>утеплитель теплопельный лидер тепло толщина ут...</td>\n",
       "    </tr>\n",
       "    <tr>\n",
       "      <th>3</th>\n",
       "      <td>489520</td>\n",
       "      <td>пальто демисезонный продавать пальто женский б...</td>\n",
       "    </tr>\n",
       "    <tr>\n",
       "      <th>4</th>\n",
       "      <td>489521</td>\n",
       "      <td>samsung syncmaster t200n условно рабочий пробл...</td>\n",
       "    </tr>\n",
       "  </tbody>\n",
       "</table>\n",
       "</div>"
      ],
      "text/plain": [
       "   item_id                                        description\n",
       "0   489517  стоик журнальный сталь продавать журнальный ст...\n",
       "1   489518  iphone телефон состояние комплект гарантия сал...\n",
       "2   489519  утеплитель теплопельный лидер тепло толщина ут...\n",
       "3   489520  пальто демисезонный продавать пальто женский б...\n",
       "4   489521  samsung syncmaster t200n условно рабочий пробл..."
      ]
     },
     "execution_count": 165,
     "metadata": {},
     "output_type": "execute_result"
    }
   ],
   "source": [
    "control_data.head()"
   ]
  },
  {
   "cell_type": "code",
   "execution_count": null,
   "metadata": {
    "collapsed": true
   },
   "outputs": [],
   "source": []
  },
  {
   "cell_type": "markdown",
   "metadata": {},
   "source": [
    "Predictions for control dataset"
   ]
  },
  {
   "cell_type": "code",
   "execution_count": 168,
   "metadata": {
    "collapsed": true
   },
   "outputs": [],
   "source": [
    "control_data['category_id'] = control_data['description'].apply(lambda s: \n",
    "                                                                model.predict(s.strip())[0][0])"
   ]
  },
  {
   "cell_type": "code",
   "execution_count": 169,
   "metadata": {},
   "outputs": [
    {
     "data": {
      "text/html": [
       "<div>\n",
       "<style scoped>\n",
       "    .dataframe tbody tr th:only-of-type {\n",
       "        vertical-align: middle;\n",
       "    }\n",
       "\n",
       "    .dataframe tbody tr th {\n",
       "        vertical-align: top;\n",
       "    }\n",
       "\n",
       "    .dataframe thead th {\n",
       "        text-align: right;\n",
       "    }\n",
       "</style>\n",
       "<table border=\"1\" class=\"dataframe\">\n",
       "  <thead>\n",
       "    <tr style=\"text-align: right;\">\n",
       "      <th></th>\n",
       "      <th>item_id</th>\n",
       "      <th>description</th>\n",
       "      <th>category_id</th>\n",
       "    </tr>\n",
       "  </thead>\n",
       "  <tbody>\n",
       "    <tr>\n",
       "      <th>0</th>\n",
       "      <td>489517</td>\n",
       "      <td>стоик журнальный сталь продавать журнальный ст...</td>\n",
       "      <td>__label__22</td>\n",
       "    </tr>\n",
       "    <tr>\n",
       "      <th>1</th>\n",
       "      <td>489518</td>\n",
       "      <td>iphone телефон состояние комплект гарантия сал...</td>\n",
       "      <td>__label__0</td>\n",
       "    </tr>\n",
       "    <tr>\n",
       "      <th>2</th>\n",
       "      <td>489519</td>\n",
       "      <td>утеплитель теплопельный лидер тепло толщина ут...</td>\n",
       "      <td>__label__15</td>\n",
       "    </tr>\n",
       "    <tr>\n",
       "      <th>3</th>\n",
       "      <td>489520</td>\n",
       "      <td>пальто демисезонный продавать пальто женский б...</td>\n",
       "      <td>__label__33</td>\n",
       "    </tr>\n",
       "    <tr>\n",
       "      <th>4</th>\n",
       "      <td>489521</td>\n",
       "      <td>samsung syncmaster t200n условно рабочий пробл...</td>\n",
       "      <td>__label__13</td>\n",
       "    </tr>\n",
       "  </tbody>\n",
       "</table>\n",
       "</div>"
      ],
      "text/plain": [
       "   item_id                                        description  category_id\n",
       "0   489517  стоик журнальный сталь продавать журнальный ст...  __label__22\n",
       "1   489518  iphone телефон состояние комплект гарантия сал...   __label__0\n",
       "2   489519  утеплитель теплопельный лидер тепло толщина ут...  __label__15\n",
       "3   489520  пальто демисезонный продавать пальто женский б...  __label__33\n",
       "4   489521  samsung syncmaster t200n условно рабочий пробл...  __label__13"
      ]
     },
     "execution_count": 169,
     "metadata": {},
     "output_type": "execute_result"
    }
   ],
   "source": [
    "control_data.head()"
   ]
  },
  {
   "cell_type": "code",
   "execution_count": null,
   "metadata": {
    "collapsed": true
   },
   "outputs": [],
   "source": []
  },
  {
   "cell_type": "markdown",
   "metadata": {},
   "source": [
    "Save predictions to file"
   ]
  },
  {
   "cell_type": "code",
   "execution_count": 175,
   "metadata": {
    "collapsed": true
   },
   "outputs": [],
   "source": [
    "control_data['category_id'] = control_data['category_id'].apply(lambda s: int(s[9:]))"
   ]
  },
  {
   "cell_type": "code",
   "execution_count": 179,
   "metadata": {},
   "outputs": [],
   "source": [
    "control_data.loc[:, ['item_id', 'category_id']].to_csv(\"control_result.csv\", index=None)"
   ]
  },
  {
   "cell_type": "code",
   "execution_count": null,
   "metadata": {
    "collapsed": true
   },
   "outputs": [],
   "source": []
  }
 ],
 "metadata": {
  "kernelspec": {
   "display_name": "Python 3 (ipykernel)",
   "language": "python",
   "name": "python3"
  },
  "language_info": {
   "codemirror_mode": {
    "name": "ipython",
    "version": 3
   },
   "file_extension": ".py",
   "mimetype": "text/x-python",
   "name": "python",
   "nbconvert_exporter": "python",
   "pygments_lexer": "ipython3",
   "version": "3.9.7"
  },
  "toc": {
   "base_numbering": 1,
   "nav_menu": {},
   "number_sections": true,
   "sideBar": true,
   "skip_h1_title": false,
   "title_cell": "Table of Contents",
   "title_sidebar": "Contents",
   "toc_cell": false,
   "toc_position": {},
   "toc_section_display": true,
   "toc_window_display": true
  }
 },
 "nbformat": 4,
 "nbformat_minor": 2
}
